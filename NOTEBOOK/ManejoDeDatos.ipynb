{
 "cells": [
  {
   "cell_type": "code",
   "execution_count": 1,
   "id": "e3c71998-1e59-4abc-85f1-278388ccee72",
   "metadata": {},
   "outputs": [],
   "source": [
    "import pandas as pd\n",
    "import matplotlib.pyplot as plt\n",
    "import seaborn as sns\n",
    "import warnings\n",
    "#warnings.filterwarnings('ignore')"
   ]
  },
  {
   "cell_type": "code",
   "execution_count": 5,
   "id": "96306d43-5350-47d3-9c9d-30a659334340",
   "metadata": {},
   "outputs": [],
   "source": [
    "df = pd.read_csv('C:/Users/valef/Desktop/DIPLOMADO UDD/python/hotel_booking.csv')"
   ]
  },
  {
   "cell_type": "code",
   "execution_count": 7,
   "id": "b08210d2-9b41-48c3-940a-8568c952b7a8",
   "metadata": {},
   "outputs": [],
   "source": [
    "df['reservation_status_date']= pd.to_datetime(df['reservation_status_date']) #para transformar la variable a tipo fecha"
   ]
  },
  {
   "cell_type": "code",
   "execution_count": null,
   "id": "bf86509d-fee2-4546-9cbf-e4c4d7632911",
   "metadata": {},
   "outputs": [],
   "source": []
  }
 ],
 "metadata": {
  "kernelspec": {
   "display_name": "Python 3 (ipykernel)",
   "language": "python",
   "name": "python3"
  },
  "language_info": {
   "codemirror_mode": {
    "name": "ipython",
    "version": 3
   },
   "file_extension": ".py",
   "mimetype": "text/x-python",
   "name": "python",
   "nbconvert_exporter": "python",
   "pygments_lexer": "ipython3",
   "version": "3.11.7"
  }
 },
 "nbformat": 4,
 "nbformat_minor": 5
}
